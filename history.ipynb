{
 "cells": [
  {
   "cell_type": "code",
   "execution_count": 1,
   "metadata": {},
   "outputs": [],
   "source": [
    "import os\n",
    "from datetime import datetime, timedelta\n",
    "import pandas as pd\n",
    "\n",
    "from dotenv import dotenv_values\n",
    "\n",
    "import myenergi\n",
    "\n",
    "env_path = os.path.expanduser(\"~/.env\")\n",
    "if os.path.exists(env_path):\n",
    "    env = dotenv_values(env_path)\n",
    "\n",
    "with myenergi.API(env.get('myenergi_serial'), env.get('myenergi_password')) as mye:\n",
    "    # If no zappi detected then exit\n",
    "    if mye.get_serials(myenergi.MyenergiType.ZAPPI) is None:\n",
    "        pass\n",
    "    else:\n",
    "        # For each zappi detected for the account\n",
    "        for zappiserial in mye.get_serials(myenergi.MyenergiType.ZAPPI):\n",
    "            starttime = datetime.now() - timedelta(days=1)\n",
    "            datestring = starttime.strftime(\"%Y-%m-%d\")\n",
    "            history = mye.get_zappi_daily_total(zappiserial, datestring, 50)\n",
    "\n",
    "    data = pd.DataFrame(history.history_data)"
   ]
  },
  {
   "cell_type": "code",
   "execution_count": 2,
   "metadata": {},
   "outputs": [
    {
     "data": {
      "text/plain": [
       "<seaborn.axisgrid.FacetGrid at 0x7f83fb9a8340>"
      ]
     },
     "execution_count": 2,
     "metadata": {},
     "output_type": "execute_result"
    },
    {
     "data": {
      "image/png": "[encoded data removed]",
      "text/plain": [
       "<Figure size 360x360 with 1 Axes>"
      ]
     },
     "metadata": {},
     "output_type": "display_data"
    }
   ],
   "source": [
    "import seaborn as sns\n",
    "import matplotlib.pyplot as plt\n",
    "\n",
    "sns.set_theme()\n",
    "\n",
    "sns.lmplot(x=\"gep\", y=\"hos\", data=data)"
   ]
  },
  {
   "cell_type": "code",
   "execution_count": 6,
   "metadata": {},
   "outputs": [
    {
     "data": {
      "text/html": [
       "<div>\n",
       "<style scoped>\n",
       "    .dataframe tbody tr th:only-of-type {\n",
       "        vertical-align: middle;\n",
       "    }\n",
       "\n",
       "    .dataframe tbody tr th {\n",
       "        vertical-align: top;\n",
       "    }\n",
       "\n",
       "    .dataframe thead th {\n",
       "        text-align: right;\n",
       "    }\n",
       "</style>\n",
       "<table border=\"1\" class=\"dataframe\">\n",
       "  <thead>\n",
       "    <tr style=\"text-align: right;\">\n",
       "      <th></th>\n",
       "      <th>hos</th>\n",
       "    </tr>\n",
       "  </thead>\n",
       "  <tbody>\n",
       "    <tr>\n",
       "      <th>hog</th>\n",
       "      <td>0.401508</td>\n",
       "    </tr>\n",
       "    <tr>\n",
       "      <th>hos</th>\n",
       "      <td>1.000000</td>\n",
       "    </tr>\n",
       "    <tr>\n",
       "      <th>h1d</th>\n",
       "      <td>0.356641</td>\n",
       "    </tr>\n",
       "    <tr>\n",
       "      <th>h1b</th>\n",
       "      <td>0.278640</td>\n",
       "    </tr>\n",
       "    <tr>\n",
       "      <th>imp</th>\n",
       "      <td>0.134365</td>\n",
       "    </tr>\n",
       "    <tr>\n",
       "      <th>exp</th>\n",
       "      <td>0.006097</td>\n",
       "    </tr>\n",
       "    <tr>\n",
       "      <th>gep</th>\n",
       "      <td>0.524319</td>\n",
       "    </tr>\n",
       "    <tr>\n",
       "      <th>gen</th>\n",
       "      <td>0.032926</td>\n",
       "    </tr>\n",
       "  </tbody>\n",
       "</table>\n",
       "</div>"
      ],
      "text/plain": [
       "          hos\n",
       "hog  0.401508\n",
       "hos  1.000000\n",
       "h1d  0.356641\n",
       "h1b  0.278640\n",
       "imp  0.134365\n",
       "exp  0.006097\n",
       "gep  0.524319\n",
       "gen  0.032926"
      ]
     },
     "execution_count": 6,
     "metadata": {},
     "output_type": "execute_result"
    }
   ],
   "source": [
    "data.corr().abs()[[\"hos\"]]"
   ]
  },
  {
   "cell_type": "markdown",
   "metadata": {},
   "source": []
  }
 ],
 "metadata": {
  "kernelspec": {
   "display_name": "Python 3",
   "language": "python",
   "name": "python3"
  },
  "language_info": {
   "codemirror_mode": {
    "name": "ipython",
    "version": 3
   },
   "file_extension": ".py",
   "mimetype": "text/x-python",
   "name": "python",
   "nbconvert_exporter": "python",
   "pygments_lexer": "ipython3",
   "version": "3.10.12"
  },
  "orig_nbformat": 4
 },
 "nbformat": 4,
 "nbformat_minor": 2
}
